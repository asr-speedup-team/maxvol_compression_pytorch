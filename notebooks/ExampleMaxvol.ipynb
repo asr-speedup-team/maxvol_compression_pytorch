{
 "cells": [
  {
   "cell_type": "code",
   "execution_count": null,
   "id": "agreed-selling",
   "metadata": {},
   "outputs": [],
   "source": [
    "%load_ext autoreload\n",
    "%autoreload 2"
   ]
  },
  {
   "cell_type": "code",
   "execution_count": null,
   "id": "sound-imaging",
   "metadata": {},
   "outputs": [],
   "source": [
    "import sys, os\n",
    "if os.path.abspath('../') not in sys.path:\n",
    "    sys.path.append(os.path.abspath('../'))"
   ]
  },
  {
   "cell_type": "code",
   "execution_count": null,
   "id": "small-simpson",
   "metadata": {},
   "outputs": [],
   "source": [
    "from functools import partial\n",
    "import torch\n",
    "\n",
    "import numpy as np\n",
    "from maxvolpy.maxvol import rect_maxvol\n",
    "import matplotlib.pyplot as plt"
   ]
  },
  {
   "cell_type": "code",
   "execution_count": null,
   "id": "public-handling",
   "metadata": {},
   "outputs": [],
   "source": [
    "from maxvol_compression.sketch_matrix import RandomSums\n",
    "from maxvol_compression.vmbf import EVBMF, weaken_rank\n",
    "from maxvol_compression.layers import LinearMaxvol\n",
    "from utils.dummy import DummyDatasetCifar10, DummyModelCifar10"
   ]
  },
  {
   "cell_type": "markdown",
   "id": "animal-italian",
   "metadata": {},
   "source": [
    "### Dataset and Model"
   ]
  },
  {
   "cell_type": "code",
   "execution_count": null,
   "id": "clean-costa",
   "metadata": {},
   "outputs": [],
   "source": [
    "BATCH_SIZE = 10"
   ]
  },
  {
   "cell_type": "code",
   "execution_count": null,
   "id": "variable-hammer",
   "metadata": {},
   "outputs": [],
   "source": [
    "model = DummyModelCifar10()\n",
    "model.load_state_dict(torch.load('data/dummy.weights'))\n",
    "cifar10 = DummyDatasetCifar10(batch_size=BATCH_SIZE, data_root='../data')"
   ]
  },
  {
   "cell_type": "code",
   "execution_count": null,
   "id": "known-palmer",
   "metadata": {},
   "outputs": [],
   "source": [
    "model.eval()"
   ]
  },
  {
   "cell_type": "code",
   "execution_count": null,
   "id": "middle-discrimination",
   "metadata": {},
   "outputs": [],
   "source": [
    "dataiter = iter(cifar10.testloader)\n",
    "images, labels = dataiter.next()\n",
    "_, predicted = torch.max(model(images), 1)\n",
    "\n",
    "fig, axs = plt.subplots(2, 5, figsize=(15, 5))\n",
    "for ax, img, lbl, pred in zip(axs.flatten(), images, labels, predicted):\n",
    "    ax.imshow(np.transpose((img / 2 + 0.5).numpy(), (1,2,0)))\n",
    "    ax.axis('off')\n",
    "    ax.set_title(f'{cifar10.classes[lbl]}/{cifar10.classes[pred]}')\n",
    "    \n",
    "plt.show()"
   ]
  },
  {
   "cell_type": "code",
   "execution_count": null,
   "id": "embedded-fetish",
   "metadata": {},
   "outputs": [],
   "source": [
    "correct = 0\n",
    "all_ = len(cifar10.testloader) * BATCH_SIZE\n",
    "for i, data in enumerate(cifar10.testloader, 0):\n",
    "        # get the inputs; data is a list of [inputs, labels]\n",
    "        inputs, labels = data\n",
    "        _, predicted = torch.max(model(inputs), 1)\n",
    "        correct += (labels == predicted).sum().detach().numpy()\n",
    "        \n",
    "print(f'accuracy: {correct / all_}')"
   ]
  },
  {
   "cell_type": "markdown",
   "id": "fourth-drive",
   "metadata": {},
   "source": [
    "### Computing sketch_matrix"
   ]
  },
  {
   "cell_type": "code",
   "execution_count": null,
   "id": "sexual-sucking",
   "metadata": {},
   "outputs": [],
   "source": [
    "rs = RandomSums(120, 120, keep_original=True)\n",
    "def update_sketchmatrix(self, input, output, alg):\n",
    "    batch_size = input[0].shape[0]\n",
    "    alg.update(input[0].view(batch_size, -1).cpu().numpy())\n",
    "    \n",
    "handle = model.fc2.register_forward_hook(\n",
    "    partial(update_sketchmatrix, alg=rs))"
   ]
  },
  {
   "cell_type": "code",
   "execution_count": null,
   "id": "determined-milan",
   "metadata": {},
   "outputs": [],
   "source": [
    "# handle.remove()"
   ]
  },
  {
   "cell_type": "code",
   "execution_count": null,
   "id": "sought-mirror",
   "metadata": {},
   "outputs": [],
   "source": [
    "%%time\n",
    "for i, (batch,_) in enumerate(cifar10.trainloader, 1):\n",
    "    with torch.no_grad():\n",
    "        _ = model(batch)\n",
    "    if i % 200 == 0: print(f'{i} batches completed')\n",
    "handle.remove()"
   ]
  },
  {
   "cell_type": "markdown",
   "id": "loving-teaching",
   "metadata": {},
   "source": [
    "### EVBMF rank estimation"
   ]
  },
  {
   "cell_type": "code",
   "execution_count": null,
   "id": "confidential-sudan",
   "metadata": {},
   "outputs": [],
   "source": [
    "_, sigma, Vt = np.linalg.svd(rs.sketch_matrix, full_matrices=False)\n",
    "_, vbmf_s, _, vbmf_post = EVBMF(None, pretrained_svd=(None, sigma, Vt))"
   ]
  },
  {
   "cell_type": "code",
   "execution_count": null,
   "id": "european-evidence",
   "metadata": {},
   "outputs": [],
   "source": [
    "vbmf_s.shape"
   ]
  },
  {
   "cell_type": "code",
   "execution_count": null,
   "id": "painful-adapter",
   "metadata": {},
   "outputs": [],
   "source": [
    "rank = weaken_rank(rank=min(*Vt.shape), extreme_rank =len(vbmf_s), weakenen_factor=1.0)\n",
    "rank"
   ]
  },
  {
   "cell_type": "markdown",
   "id": "cloudy-government",
   "metadata": {},
   "source": [
    "### rect-maxvol"
   ]
  },
  {
   "cell_type": "code",
   "execution_count": null,
   "id": "silent-charlotte",
   "metadata": {},
   "outputs": [],
   "source": [
    "V = Vt.T[:, :rank]\n",
    "V.shape"
   ]
  },
  {
   "cell_type": "code",
   "execution_count": null,
   "id": "early-humanity",
   "metadata": {},
   "outputs": [],
   "source": [
    "%%time\n",
    "idxs, _ = rect_maxvol(V, maxK=int(1.7*min(*V.shape)))"
   ]
  },
  {
   "cell_type": "code",
   "execution_count": null,
   "id": "greatest-newton",
   "metadata": {},
   "outputs": [],
   "source": [
    "%%time\n",
    "invSV = np.linalg.pinv(V[idxs, :])"
   ]
  },
  {
   "cell_type": "code",
   "execution_count": null,
   "id": "terminal-trunk",
   "metadata": {},
   "outputs": [],
   "source": [
    "invSV.shape, V.shape"
   ]
  },
  {
   "cell_type": "markdown",
   "id": "collaborative-bikini",
   "metadata": {},
   "source": [
    "### compression"
   ]
  },
  {
   "cell_type": "code",
   "execution_count": null,
   "id": "authorized-graham",
   "metadata": {},
   "outputs": [],
   "source": [
    "model.fc1 = LinearMaxvol(model.fc1, idxs, V)"
   ]
  },
  {
   "cell_type": "code",
   "execution_count": null,
   "id": "noted-details",
   "metadata": {},
   "outputs": [],
   "source": [
    "model.eval()"
   ]
  },
  {
   "cell_type": "code",
   "execution_count": null,
   "id": "abroad-drain",
   "metadata": {},
   "outputs": [],
   "source": [
    "dataiter = iter(cifar10.testloader)\n",
    "images, labels = dataiter.next()\n",
    "_, predicted = torch.max(model(images), 1)\n",
    "\n",
    "fig, axs = plt.subplots(2, 5, figsize=(15, 5))\n",
    "for ax, img, lbl, pred in zip(axs.flatten(), images, labels, predicted):\n",
    "    ax.imshow(np.transpose((img / 2 + 0.5).numpy(), (1,2,0)))\n",
    "    ax.axis('off')\n",
    "    ax.set_title(f'{cifar10.classes[lbl]}/{cifar10.classes[pred]}')\n",
    "    \n",
    "plt.show()"
   ]
  },
  {
   "cell_type": "code",
   "execution_count": null,
   "id": "knowing-theorem",
   "metadata": {},
   "outputs": [],
   "source": [
    "correct = 0\n",
    "all_ = len(cifar10.testloader) * BATCH_SIZE\n",
    "for i, data in enumerate(cifar10.testloader, 0):\n",
    "    # get the inputs; data is a list of [inputs, labels]\n",
    "    inputs, labels = data\n",
    "    _, predicted = torch.max(model(inputs), 1)\n",
    "    correct += (labels == predicted).sum().detach().numpy()\n",
    "        \n",
    "print(f'accuracy: {correct / all_}')"
   ]
  }
 ],
 "metadata": {
  "kernelspec": {
   "display_name": "mark1",
   "language": "python",
   "name": "mark1"
  },
  "language_info": {
   "codemirror_mode": {
    "name": "ipython",
    "version": 3
   },
   "file_extension": ".py",
   "mimetype": "text/x-python",
   "name": "python",
   "nbconvert_exporter": "python",
   "pygments_lexer": "ipython3",
   "version": "3.7.1"
  }
 },
 "nbformat": 4,
 "nbformat_minor": 5
}

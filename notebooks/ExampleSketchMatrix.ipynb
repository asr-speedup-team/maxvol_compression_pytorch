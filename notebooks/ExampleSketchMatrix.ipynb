{
 "cells": [
  {
   "cell_type": "code",
   "execution_count": null,
   "id": "specialized-longer",
   "metadata": {},
   "outputs": [],
   "source": [
    "%load_ext autoreload\n",
    "%autoreload 2"
   ]
  },
  {
   "cell_type": "code",
   "execution_count": null,
   "id": "aboriginal-yesterday",
   "metadata": {},
   "outputs": [],
   "source": [
    "import torch\n",
    "import torch.nn as nn\n",
    "import torch.nn.functional as F\n",
    "import torchvision\n",
    "import torchvision.transforms as transforms\n",
    "\n",
    "import numpy as np\n",
    "from functools import partial"
   ]
  },
  {
   "cell_type": "code",
   "execution_count": null,
   "id": "prerequisite-grain",
   "metadata": {},
   "outputs": [],
   "source": [
    "import sys, os\n",
    "if os.path.abspath('../') not in sys.path:\n",
    "    sys.path.append(os.path.abspath('../'))"
   ]
  },
  {
   "cell_type": "code",
   "execution_count": null,
   "id": "respected-avatar",
   "metadata": {},
   "outputs": [],
   "source": [
    "from maxvol_compression.sketch_matrix import FastFrequentDirections, RandomSums\n",
    "from utils.dummy import DummyDatasetCifar10, DummyModelCifar10"
   ]
  },
  {
   "cell_type": "code",
   "execution_count": null,
   "id": "right-light",
   "metadata": {},
   "outputs": [],
   "source": [
    "BATCH_SIZE = 10"
   ]
  },
  {
   "cell_type": "code",
   "execution_count": null,
   "id": "rational-thailand",
   "metadata": {},
   "outputs": [],
   "source": [
    "model = DummyModelCifar10()\n",
    "cifar10 = DummyDatasetCifar10(batch_size=BATCH_SIZE, data_root='../data')"
   ]
  },
  {
   "cell_type": "code",
   "execution_count": null,
   "id": "unavailable-bracelet",
   "metadata": {},
   "outputs": [],
   "source": [
    "model.eval()"
   ]
  },
  {
   "cell_type": "code",
   "execution_count": null,
   "id": "equal-thompson",
   "metadata": {},
   "outputs": [],
   "source": [
    "# Test run to compute bounds\n",
    "fds = FastFrequentDirections(150, 400, keep_original=True)\n",
    "def update_sketchmatrix(self, input, output, alg):\n",
    "    batch_size = input[0].shape[0]\n",
    "    alg.update(input[0].view(batch_size, -1).cpu().numpy())\n",
    "    \n",
    "handle = model.fc1.register_forward_hook(\n",
    "    partial(update_sketchmatrix, alg=fds))"
   ]
  },
  {
   "cell_type": "code",
   "execution_count": null,
   "id": "following-hardwood",
   "metadata": {},
   "outputs": [],
   "source": [
    "# handle.remove()"
   ]
  },
  {
   "cell_type": "code",
   "execution_count": null,
   "id": "presidential-discretion",
   "metadata": {},
   "outputs": [],
   "source": [
    "%%time\n",
    "for i, (batch,_) in enumerate(cifar10.testloader, 1):\n",
    "    with torch.no_grad():\n",
    "        _ = model(batch)\n",
    "    if i % 200 == 0: print(f'{i} batches completed')\n",
    "handle.remove()"
   ]
  },
  {
   "cell_type": "code",
   "execution_count": null,
   "id": "alike-complement",
   "metadata": {},
   "outputs": [],
   "source": [
    "fds.sketch_matrix[:10]"
   ]
  },
  {
   "cell_type": "code",
   "execution_count": null,
   "id": "superb-aggregate",
   "metadata": {},
   "outputs": [],
   "source": [
    "fds.compute_error()"
   ]
  },
  {
   "cell_type": "code",
   "execution_count": null,
   "id": "considerable-transfer",
   "metadata": {},
   "outputs": [],
   "source": [
    "# Test run to compute bounds\n",
    "rs = RandomSums(150, 400, keep_original=True)\n",
    "def update_sketchmatrix(self, input, output, alg):\n",
    "    batch_size = input[0].shape[0]\n",
    "    alg.update(input[0].view(batch_size, -1).cpu().numpy())\n",
    "    \n",
    "handle = model.fc1.register_forward_hook(\n",
    "    partial(update_sketchmatrix, alg=rs))"
   ]
  },
  {
   "cell_type": "code",
   "execution_count": null,
   "id": "chronic-radical",
   "metadata": {},
   "outputs": [],
   "source": [
    "%%time\n",
    "for i, (batch,_) in enumerate(cifar10.testloader, 1):\n",
    "    with torch.no_grad():\n",
    "        _ = model(batch)\n",
    "    if i % 200 == 0: print(f'{i} batches completed')\n",
    "handle.remove()"
   ]
  },
  {
   "cell_type": "code",
   "execution_count": null,
   "id": "compound-thompson",
   "metadata": {},
   "outputs": [],
   "source": [
    "rs.sketch_matrix"
   ]
  },
  {
   "cell_type": "code",
   "execution_count": null,
   "id": "environmental-stocks",
   "metadata": {},
   "outputs": [],
   "source": [
    "rs.compute_error()"
   ]
  },
  {
   "cell_type": "code",
   "execution_count": null,
   "id": "upset-indication",
   "metadata": {},
   "outputs": [],
   "source": []
  }
 ],
 "metadata": {
  "kernelspec": {
   "display_name": "mark1",
   "language": "python",
   "name": "mark1"
  },
  "language_info": {
   "codemirror_mode": {
    "name": "ipython",
    "version": 3
   },
   "file_extension": ".py",
   "mimetype": "text/x-python",
   "name": "python",
   "nbconvert_exporter": "python",
   "pygments_lexer": "ipython3",
   "version": "3.7.1"
  }
 },
 "nbformat": 4,
 "nbformat_minor": 5
}

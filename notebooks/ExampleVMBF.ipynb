{
 "cells": [
  {
   "cell_type": "code",
   "execution_count": null,
   "id": "contemporary-albert",
   "metadata": {},
   "outputs": [],
   "source": [
    "%load_ext autoreload\n",
    "%autoreload 2"
   ]
  },
  {
   "cell_type": "code",
   "execution_count": null,
   "id": "compressed-gossip",
   "metadata": {},
   "outputs": [],
   "source": [
    "import sys, os\n",
    "if os.path.abspath('../') not in sys.path:\n",
    "    sys.path.append(os.path.abspath('../'))"
   ]
  },
  {
   "cell_type": "code",
   "execution_count": null,
   "id": "bridal-charter",
   "metadata": {},
   "outputs": [],
   "source": [
    "import numpy as np"
   ]
  },
  {
   "cell_type": "code",
   "execution_count": null,
   "id": "advisory-robin",
   "metadata": {},
   "outputs": [],
   "source": [
    "from maxvol_compression.vmbf import EVBMF, weaken_rank"
   ]
  },
  {
   "cell_type": "code",
   "execution_count": null,
   "id": "significant-anthony",
   "metadata": {},
   "outputs": [],
   "source": [
    "A = np.random.rand(800, 1000) - np.random.rand(800, 1000) / 3 - 1.9 + np.random.rand(800, 1000) * 2 \n",
    "_, vmbf_s, vmbf_V, vmbf_post = EVBMF(A)"
   ]
  },
  {
   "cell_type": "code",
   "execution_count": null,
   "id": "seasonal-willow",
   "metadata": {
    "jupyter": {
     "outputs_hidden": true
    }
   },
   "outputs": [],
   "source": [
    "vmbf_s.shape, vmbf_V.shape, vmbf_post"
   ]
  },
  {
   "cell_type": "code",
   "execution_count": null,
   "id": "announced-agency",
   "metadata": {},
   "outputs": [],
   "source": [
    "U, s, Vt = np.linalg.svd(A, full_matrices = False)"
   ]
  },
  {
   "cell_type": "code",
   "execution_count": null,
   "id": "eastern-reliance",
   "metadata": {},
   "outputs": [],
   "source": [
    "_, vbmf_s, vbmf_V, vbmf_post = EVBMF(None, pretrained_svd=np.linalg.svd(A, full_matrices = False))"
   ]
  },
  {
   "cell_type": "code",
   "execution_count": null,
   "id": "fatal-grant",
   "metadata": {
    "jupyter": {
     "outputs_hidden": true
    }
   },
   "outputs": [],
   "source": [
    "vmbf_s.shape, vmbf_V.shape, vmbf_post"
   ]
  },
  {
   "cell_type": "code",
   "execution_count": null,
   "id": "confidential-heavy",
   "metadata": {},
   "outputs": [],
   "source": [
    "rank = weaken_rank(rank=min(*Vt.shape), extreme_rank=len(vmbf_s),\n",
    "                   weakenen_factor=1.0)\n",
    "rank"
   ]
  },
  {
   "cell_type": "code",
   "execution_count": null,
   "id": "moral-drawing",
   "metadata": {},
   "outputs": [],
   "source": [
    "if os.path.abspath('../../pytorch-tensor-decompositions') not in sys.path:\n",
    "    sys.path.append(os.path.abspath('../../pytorch-tensor-decompositions'))\n",
    "from VBMF.VBMF import EVBMF as EVBMFv2"
   ]
  },
  {
   "cell_type": "code",
   "execution_count": null,
   "id": "given-royal",
   "metadata": {},
   "outputs": [],
   "source": [
    "U, s, V, post = EVBMF(A)"
   ]
  },
  {
   "cell_type": "code",
   "execution_count": null,
   "id": "miniature-wallace",
   "metadata": {},
   "outputs": [],
   "source": [
    "s"
   ]
  },
  {
   "cell_type": "code",
   "execution_count": null,
   "id": "animated-weekend",
   "metadata": {},
   "outputs": [],
   "source": []
  }
 ],
 "metadata": {
  "kernelspec": {
   "display_name": "mark1",
   "language": "python",
   "name": "mark1"
  },
  "language_info": {
   "codemirror_mode": {
    "name": "ipython",
    "version": 3
   },
   "file_extension": ".py",
   "mimetype": "text/x-python",
   "name": "python",
   "nbconvert_exporter": "python",
   "pygments_lexer": "ipython3",
   "version": "3.7.1"
  }
 },
 "nbformat": 4,
 "nbformat_minor": 5
}

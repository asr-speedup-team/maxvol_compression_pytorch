{
 "cells": [
  {
   "cell_type": "code",
   "execution_count": null,
   "id": "directed-astrology",
   "metadata": {},
   "outputs": [],
   "source": [
    "%load_ext autoreload\n",
    "%autoreload 2"
   ]
  },
  {
   "cell_type": "code",
   "execution_count": null,
   "id": "ambient-premises",
   "metadata": {},
   "outputs": [],
   "source": [
    "import sys, os\n",
    "if os.path.abspath('../') not in sys.path:\n",
    "    sys.path.append(os.path.abspath('../'))"
   ]
  },
  {
   "cell_type": "code",
   "execution_count": null,
   "id": "legal-longer",
   "metadata": {},
   "outputs": [],
   "source": [
    "import numpy as np"
   ]
  },
  {
   "cell_type": "code",
   "execution_count": null,
   "id": "direct-recorder",
   "metadata": {},
   "outputs": [],
   "source": [
    "from maxvol_compression.vmbf import EVBMF, weaken_rank"
   ]
  },
  {
   "cell_type": "code",
   "execution_count": null,
   "id": "according-operation",
   "metadata": {},
   "outputs": [],
   "source": [
    "A = np.random.rand(800, 1000) - np.random.rand(800, 1000) / 3 - 1.9 + np.random.rand(800, 1000) * 2 \n",
    "_, vmbf_s, vmbf_V, vmbf_post = EVBMF(A)"
   ]
  },
  {
   "cell_type": "code",
   "execution_count": null,
   "id": "joint-locator",
   "metadata": {
    "collapsed": true,
    "jupyter": {
     "outputs_hidden": true
    }
   },
   "outputs": [],
   "source": [
    "vmbf_s.shape, vmbf_V.shape, vmbf_post"
   ]
  },
  {
   "cell_type": "code",
   "execution_count": null,
   "id": "pregnant-organic",
   "metadata": {},
   "outputs": [],
   "source": [
    "U, s, Vt = np.linalg.svd(A, full_matrices = False)"
   ]
  },
  {
   "cell_type": "code",
   "execution_count": null,
   "id": "wanted-chest",
   "metadata": {},
   "outputs": [],
   "source": [
    "_, vbmf_s, vbmf_V, vbmf_post = EVBMF(None, pretrained_svd=np.linalg.svd(A, full_matrices = False))"
   ]
  },
  {
   "cell_type": "code",
   "execution_count": null,
   "id": "apparent-struggle",
   "metadata": {
    "collapsed": true,
    "jupyter": {
     "outputs_hidden": true
    }
   },
   "outputs": [],
   "source": [
    "vmbf_s.shape, vmbf_V.shape, vmbf_post"
   ]
  },
  {
   "cell_type": "code",
   "execution_count": null,
   "id": "considered-amount",
   "metadata": {},
   "outputs": [],
   "source": [
    "rank = weaken_rank(rank=min(*Vt.shape), extreme_rank=len(vmbf_s),\n",
    "                   weakenen_factor=1.0)\n",
    "rank"
   ]
  },
  {
   "cell_type": "code",
   "execution_count": null,
   "id": "wicked-region",
   "metadata": {},
   "outputs": [],
   "source": []
  }
 ],
 "metadata": {
  "kernelspec": {
   "display_name": "mark1",
   "language": "python",
   "name": "mark1"
  },
  "language_info": {
   "codemirror_mode": {
    "name": "ipython",
    "version": 3
   },
   "file_extension": ".py",
   "mimetype": "text/x-python",
   "name": "python",
   "nbconvert_exporter": "python",
   "pygments_lexer": "ipython3",
   "version": "3.7.1"
  }
 },
 "nbformat": 4,
 "nbformat_minor": 5
}

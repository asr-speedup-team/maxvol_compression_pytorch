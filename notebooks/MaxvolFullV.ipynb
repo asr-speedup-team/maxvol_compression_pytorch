{
 "cells": [
  {
   "cell_type": "code",
   "execution_count": null,
   "id": "0e63d7e5-283e-41c1-b325-3cdc684d09b5",
   "metadata": {},
   "outputs": [],
   "source": [
    "import sys, os\n",
    "if os.path.abspath('../../musco-pytorch-private') not in sys.path:\n",
    "    sys.path.append(os.path.abspath('../../musco-pytorch-private'))\n",
    "if os.path.abspath('../../maxvol_compression_pytorch') not in sys.path:\n",
    "    sys.path.append(os.path.abspath('../../maxvol_compression_pytorch'))"
   ]
  },
  {
   "cell_type": "code",
   "execution_count": null,
   "id": "6f3ecdf4-be2b-4e97-acf1-f2662920140c",
   "metadata": {
    "tags": []
   },
   "outputs": [],
   "source": [
    "from functools import partial\n",
    "import torch\n",
    "import numpy as np\n",
    "import matplotlib.pyplot as plt\n",
    "from tqdm import tqdm\n",
    "from maxvolpy.maxvol import rect_maxvol"
   ]
  },
  {
   "cell_type": "code",
   "execution_count": null,
   "id": "a2d12673-5107-411e-a4ec-0ce0627f8967",
   "metadata": {},
   "outputs": [],
   "source": [
    "from maxvol_compression.sketch_matrix import RandomSums\n",
    "from maxvol_compression.vmbf import EVBMF, weaken_rank\n",
    "from maxvol_compression.layers import LinearMaxvol\n",
    "from utils.dummy import DummyDatasetCifar10, DummyModelCifar10\n",
    "from musco.pytorch.compressor.layers.conv1d_toeplitz import Conv1Dtoeplitz"
   ]
  },
  {
   "cell_type": "code",
   "execution_count": null,
   "id": "409c3ac1-3ea3-422f-a82b-5f320236d660",
   "metadata": {},
   "outputs": [],
   "source": [
    "device = 'cuda:0' if torch.cuda.is_available() else 'cpu'"
   ]
  },
  {
   "cell_type": "code",
   "execution_count": null,
   "id": "8d718794-112c-49e9-98f0-a08bfcb05db4",
   "metadata": {},
   "outputs": [],
   "source": [
    "BATCH_SIZE = 10"
   ]
  },
  {
   "cell_type": "code",
   "execution_count": null,
   "id": "a52ba616-9f88-4faa-943e-a3cd64a24550",
   "metadata": {},
   "outputs": [],
   "source": [
    "model = DummyModelCifar10().to(device)\n",
    "model.load_state_dict(torch.load('data/dummy.weights'))\n",
    "cifar10 = DummyDatasetCifar10(batch_size=BATCH_SIZE, data_root='data')"
   ]
  },
  {
   "cell_type": "code",
   "execution_count": null,
   "id": "212d1d35-eb30-424d-aa48-e206b9cdcce1",
   "metadata": {},
   "outputs": [],
   "source": [
    "model.eval()"
   ]
  },
  {
   "cell_type": "code",
   "execution_count": null,
   "id": "d86817d6-0f9b-47e2-8cad-8f27ff36efdd",
   "metadata": {},
   "outputs": [],
   "source": [
    "%%time\n",
    "correct = 0\n",
    "all_ = len(cifar10.testloader) * BATCH_SIZE\n",
    "with torch.no_grad():\n",
    "    for i, data in tqdm(enumerate(cifar10.testloader, 0)):\n",
    "        inputs, labels = data\n",
    "        inputs = inputs.to(device)\n",
    "        _, predicted = torch.max(model(inputs).cpu(), 1)\n",
    "        correct += (labels == predicted).sum().detach().numpy()\n",
    "        \n",
    "print(f'accuracy: {correct / all_}')"
   ]
  },
  {
   "cell_type": "code",
   "execution_count": null,
   "id": "dd415b8c-e892-46ac-aa5e-b5a7dd4d2846",
   "metadata": {},
   "outputs": [],
   "source": [
    "rs = RandomSums(500, 13875, keep_original=True)\n",
    "rs.load('data/conv1_sketch_matrix.npy')"
   ]
  },
  {
   "cell_type": "code",
   "execution_count": null,
   "id": "968a6e2f-e615-4699-99a1-363d71c2ba53",
   "metadata": {},
   "outputs": [],
   "source": [
    "_, sigma, Vt = np.linalg.svd(rs.sketch_matrix, full_matrices=False)\n",
    "_, vbmf_s, _, vbmf_post = EVBMF(None, pretrained_svd=(None, sigma, Vt))\n",
    "V = Vt.T"
   ]
  },
  {
   "cell_type": "code",
   "execution_count": null,
   "id": "cd62d1b1-b8fa-48ec-9546-e29a57117329",
   "metadata": {},
   "outputs": [],
   "source": [
    "Vt.shape, vbmf_s.shape"
   ]
  },
  {
   "cell_type": "code",
   "execution_count": null,
   "id": "e2276656-583f-4d39-afb7-c194a8e94d7c",
   "metadata": {},
   "outputs": [],
   "source": [
    "rank = weaken_rank(rank=min(*Vt.shape), extreme_rank =len(vbmf_s), weakenen_factor=1.0)\n",
    "rank"
   ]
  },
  {
   "cell_type": "code",
   "execution_count": null,
   "id": "6b252bba-4525-4741-a565-93904ea71966",
   "metadata": {},
   "outputs": [],
   "source": [
    "# idxs, _ = rect_maxvol(V, maxK=int(1.7*min(*V.shape)))\n",
    "# len(idxs)"
   ]
  },
  {
   "cell_type": "code",
   "execution_count": null,
   "id": "770fac41-2eae-47ae-af79-fcc2ceffb030",
   "metadata": {},
   "outputs": [],
   "source": [
    "idxs = np.arange(0, 13875, 10)\n",
    "len(idxs)"
   ]
  },
  {
   "cell_type": "code",
   "execution_count": null,
   "id": "7f6762cb-8bba-41bd-a7e5-1b239ca21cda",
   "metadata": {},
   "outputs": [],
   "source": [
    "from torch.nn.parameter import Parameter\n",
    "from torch.nn import Module\n",
    "import torch.nn.functional as F\n",
    "\n",
    "class LinearMaxvol_v2(Module):\n",
    "    def __init__(self, linear, idxs, device):\n",
    "        super().__init__()\n",
    "        self.in_features = linear.in_features\n",
    "        self.out_features = linear.out_features\n",
    "\n",
    "        self.idxs = idxs\n",
    "        with torch.no_grad():\n",
    "            self.weight = Parameter(linear.weight[idxs].detach())\n",
    "            if linear.bias is not None:\n",
    "                self.bias = Parameter(linear.bias[idxs].detach())\n",
    "            else:\n",
    "                self.register_parameter('bias', None)\n",
    "#             self.V = Parameter(torch.Tensor(V))\n",
    "#             self.invSV = Parameter(torch.Tensor(np.linalg.pinv(V[idxs, :])))\n",
    "        self.pad = torch.eye(self.out_features, self.out_features)[:, self.idxs].to(device)\n",
    "\n",
    "    def forward(self, input):\n",
    "        x = F.linear(input, self.weight, self.bias)\n",
    "#         return (self.V @ self.invSV @ x.T).T\n",
    "        return (self.pad @ x.T).T\n",
    "\n",
    "    def extra_repr(self) -> str:\n",
    "        return 'in_features={}, out_features={}, bias={}, idxs_len={}'.format(\n",
    "            self.in_features, self.out_features, self.bias is not None, len(self.idxs)\n",
    "        )"
   ]
  },
  {
   "cell_type": "code",
   "execution_count": null,
   "id": "6e9166ba-1bac-4d5a-b98b-439a96ea767a",
   "metadata": {},
   "outputs": [],
   "source": [
    "conv1d_tplz = Conv1Dtoeplitz(model.conv1, (BATCH_SIZE, 3, 1024))\n",
    "# conv1d_tplz.dense_layer = LinearMaxvol_v2(conv1d_tplz.dense_layer, idxs, device=device)\n",
    "conv1d_tplz.dense_layer = LinearMaxvol(conv1d_tplz.dense_layer, idxs, V, device=device)\n",
    "model.conv1 = conv1d_tplz"
   ]
  },
  {
   "cell_type": "code",
   "execution_count": null,
   "id": "3af26eef-a316-4db7-a928-b557db0e2bd7",
   "metadata": {
    "tags": []
   },
   "outputs": [],
   "source": [
    "%%time\n",
    "correct = 0\n",
    "all_ = len(cifar10.testloader) * BATCH_SIZE\n",
    "with torch.no_grad():\n",
    "    for i, data in tqdm(enumerate(cifar10.testloader, 0)):\n",
    "        inputs, labels = data\n",
    "        inputs = inputs.to(device)\n",
    "        _, predicted = torch.max(model(inputs).cpu(), 1)\n",
    "        correct += (labels == predicted).sum().detach().numpy()\n",
    "        \n",
    "print(f'accuracy: {correct / all_}')"
   ]
  },
  {
   "cell_type": "code",
   "execution_count": null,
   "id": "88032183-1a0e-4c58-bce4-2b3d88a8e4e1",
   "metadata": {},
   "outputs": [],
   "source": [
    "len(idxs)"
   ]
  },
  {
   "cell_type": "code",
   "execution_count": null,
   "id": "2e2a4912-e8af-4e5a-8c66-20aed48f921d",
   "metadata": {},
   "outputs": [],
   "source": [
    "fig, ax = plt.subplots(figsize=(6, 6))\n",
    "ax.set_title('Conv1d layer decomposition')\n",
    "ax.plot([850, 1388, 3469, 4625, 6937], [0.2839, 0.4527, 0.53, 0.6, 0.63], 'bs', label='regular without VVt')\n",
    "ax.plot([850, 1388, 3469, 4625, 6937], [0.62, 0.62, 0.6331, 0.64, 0.63], 'rs', label='regular with VVt')\n",
    "ax.legend(loc='lower right')\n",
    "ax.set_xlabel('remained indexes')\n",
    "ax.set_ylabel('accuracy on 10 classes')\n",
    "fig.savefig('conv1d_reducedorder.jpg')\n",
    "plt.show()"
   ]
  },
  {
   "cell_type": "code",
   "execution_count": null,
   "id": "98dce535-ff72-4b33-89e9-d263ec1309c1",
   "metadata": {},
   "outputs": [],
   "source": []
  }
 ],
 "metadata": {
  "kernelspec": {
   "display_name": "mark3",
   "language": "python",
   "name": "mark3"
  },
  "language_info": {
   "codemirror_mode": {
    "name": "ipython",
    "version": 3
   },
   "file_extension": ".py",
   "mimetype": "text/x-python",
   "name": "python",
   "nbconvert_exporter": "python",
   "pygments_lexer": "ipython3",
   "version": "3.7.10"
  }
 },
 "nbformat": 4,
 "nbformat_minor": 5
}

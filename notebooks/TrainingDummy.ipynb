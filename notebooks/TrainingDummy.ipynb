{
 "cells": [
  {
   "cell_type": "code",
   "execution_count": null,
   "id": "proprietary-handle",
   "metadata": {},
   "outputs": [],
   "source": [
    "%load_ext autoreload\n",
    "%autoreload 2"
   ]
  },
  {
   "cell_type": "code",
   "execution_count": null,
   "id": "choice-america",
   "metadata": {},
   "outputs": [],
   "source": [
    "import sys, os\n",
    "if os.path.abspath('../') not in sys.path:\n",
    "    sys.path.append(os.path.abspath('../'))"
   ]
  },
  {
   "cell_type": "code",
   "execution_count": null,
   "id": "settled-region",
   "metadata": {},
   "outputs": [],
   "source": [
    "import torch\n",
    "import torch.nn as nn\n",
    "import torch.optim as optim\n",
    "import torchvision\n",
    "import matplotlib.pyplot as plt\n",
    "import numpy as np"
   ]
  },
  {
   "cell_type": "code",
   "execution_count": null,
   "id": "swiss-reproduction",
   "metadata": {},
   "outputs": [],
   "source": [
    "from utils.dummy import DummyDatasetCifar10, DummyModelCifar10"
   ]
  },
  {
   "cell_type": "code",
   "execution_count": null,
   "id": "successful-insight",
   "metadata": {},
   "outputs": [],
   "source": [
    "BATCH_SIZE = 10"
   ]
  },
  {
   "cell_type": "code",
   "execution_count": null,
   "id": "medieval-pension",
   "metadata": {},
   "outputs": [],
   "source": [
    "model = DummyModelCifar10()\n",
    "cifar10 = DummyDatasetCifar10(batch_size=BATCH_SIZE, data_root='../data')"
   ]
  },
  {
   "cell_type": "code",
   "execution_count": null,
   "id": "headed-throat",
   "metadata": {},
   "outputs": [],
   "source": [
    "model.load_state_dict(torch.load('data/dummy.weights'))"
   ]
  },
  {
   "cell_type": "code",
   "execution_count": null,
   "id": "personalized-devon",
   "metadata": {},
   "outputs": [],
   "source": [
    "criterion = nn.CrossEntropyLoss()\n",
    "optimizer = optim.SGD(model.parameters(), lr=0.001, momentum=0.9)"
   ]
  },
  {
   "cell_type": "code",
   "execution_count": null,
   "id": "great-transaction",
   "metadata": {},
   "outputs": [],
   "source": [
    "%%time\n",
    "for epoch in range(10):\n",
    "\n",
    "    running_loss = 0.0\n",
    "    for i, data in enumerate(cifar10.trainloader, 0):\n",
    "        # get the inputs; data is a list of [inputs, labels]\n",
    "        inputs, labels = data\n",
    "\n",
    "        # zero the parameter gradients\n",
    "        optimizer.zero_grad()\n",
    "\n",
    "        # forward + backward + optimize\n",
    "        outputs = model(inputs)\n",
    "        loss = criterion(outputs, labels)\n",
    "        loss.backward()\n",
    "        optimizer.step()\n",
    "\n",
    "        # print statistics\n",
    "        running_loss += loss.item()\n",
    "        if i % 2000 == 1999:    # print every 2000 mini-batches\n",
    "            print('[Epoch %d, Batch %5d] loss: %.3f' %\n",
    "                  (epoch + 1, i + 1, running_loss / 2000))\n",
    "            running_loss = 0.0\n",
    "\n",
    "print('Finished Training')"
   ]
  },
  {
   "cell_type": "code",
   "execution_count": null,
   "id": "raising-negative",
   "metadata": {},
   "outputs": [],
   "source": [
    "model.eval()"
   ]
  },
  {
   "cell_type": "code",
   "execution_count": null,
   "id": "bearing-bathroom",
   "metadata": {},
   "outputs": [],
   "source": [
    "dataiter = iter(cifar10.testloader)\n",
    "images, labels = dataiter.next()\n",
    "_, predicted = torch.max(model(images), 1)\n",
    "\n",
    "fig, axs = plt.subplots(2, 5, figsize=(15, 5))\n",
    "for ax, img, lbl, pred in zip(axs.flatten(), images, labels, predicted):\n",
    "    ax.imshow(np.transpose((img / 2 + 0.5).numpy(), (1,2,0)))\n",
    "    ax.axis('off')\n",
    "    ax.set_title(f'{cifar10.classes[lbl]}/{cifar10.classes[pred]}')\n",
    "    \n",
    "plt.show()"
   ]
  },
  {
   "cell_type": "code",
   "execution_count": null,
   "id": "pressing-ebony",
   "metadata": {},
   "outputs": [],
   "source": [
    "correct = 0\n",
    "all_ = len(cifar10.testloader) * BATCH_SIZE\n",
    "for i, data in enumerate(cifar10.testloader, 0):\n",
    "        # get the inputs; data is a list of [inputs, labels]\n",
    "        inputs, labels = data\n",
    "        _, predicted = torch.max(model(inputs), 1)\n",
    "        correct += (labels == predicted).sum().detach().numpy()\n",
    "        \n",
    "print(f'accuracy: {correct / all_}')"
   ]
  },
  {
   "cell_type": "code",
   "execution_count": null,
   "id": "equivalent-reproduction",
   "metadata": {},
   "outputs": [],
   "source": [
    "# torch.save(model.state_dict(), 'data/dummy.weights')"
   ]
  },
  {
   "cell_type": "code",
   "execution_count": null,
   "id": "provincial-miniature",
   "metadata": {},
   "outputs": [],
   "source": []
  }
 ],
 "metadata": {
  "kernelspec": {
   "display_name": "mark1",
   "language": "python",
   "name": "mark1"
  },
  "language_info": {
   "codemirror_mode": {
    "name": "ipython",
    "version": 3
   },
   "file_extension": ".py",
   "mimetype": "text/x-python",
   "name": "python",
   "nbconvert_exporter": "python",
   "pygments_lexer": "ipython3",
   "version": "3.7.1"
  }
 },
 "nbformat": 4,
 "nbformat_minor": 5
}
